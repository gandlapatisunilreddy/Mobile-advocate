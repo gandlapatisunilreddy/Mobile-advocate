{
 "cells": [
  {
   "cell_type": "code",
   "execution_count": 1,
   "id": "c6f4edb1",
   "metadata": {},
   "outputs": [
    {
     "data": {
      "text/plain": [
       "'D:\\\\'"
      ]
     },
     "execution_count": 1,
     "metadata": {},
     "output_type": "execute_result"
    }
   ],
   "source": [
    "import os\n",
    "os.getcwd()\n",
    "os.chdir('D:\\\\')\n",
    "os.getcwd()"
   ]
  },
  {
   "cell_type": "code",
   "execution_count": 2,
   "id": "5617a8d8",
   "metadata": {},
   "outputs": [],
   "source": [
    "from tkinter import *\n",
    "import pandas as pd"
   ]
  },
  {
   "cell_type": "code",
   "execution_count": 3,
   "id": "569926ca",
   "metadata": {},
   "outputs": [],
   "source": [
    "root=Tk()\n",
    "root.geometry(\"900x500\")\n",
    "root.config(bg=\"lightblue\")"
   ]
  },
  {
   "cell_type": "code",
   "execution_count": 4,
   "id": "18ae3b5f",
   "metadata": {},
   "outputs": [],
   "source": [
    "def printtext():\n",
    "    global e\n",
    "    global s\n",
    "    global t\n",
    "    global u\n",
    "    global l\n",
    "    global h\n",
    "    df=pd.read_csv(\"mobile1.csv\")\n",
    "    df['RAMGB']=df['RAMGB'].map(str)\n",
    "    df['ROMGB']=df['ROMGB'].map(str)\n",
    "    df['price']=df['price'].map(str)\n",
    "    df['Battery power']=df['Battery power'].map(str)\n",
    "    df['generation']=df['generation'].map(str)\n",
    "    df['frontcam']=df['frontcam'].map(str)\n",
    "    df['primarycam']=df['primarycam'].map(str)\n",
    "    string1= e.get()\n",
    "    string2= s.get()\n",
    "    string3= t.get()\n",
    "    string4= u.get()\n",
    "    string5= l.get()\n",
    "    string6= h.get()\n",
    "    string7= i.get()\n",
    "    if(string1==''):\n",
    "        ac=df.loc[(df['RAMGB']==string2)&(df['ROMGB']==string3)&(df['Battery power']==string4)&(df['generation']==string5)&(df['frontcam']==string6)&(df['primarycam']==string7)]\n",
    "        ab=Label(root, text=ac)\n",
    "        ab.grid(row=11, column=1, sticky='e',padx=10, pady=20)\n",
    "    elif(string2==''):\n",
    "        ac=df.loc[(df['company']==string1)&(df['ROMGB']==string3)&(df['Battery power']==string4)&(df['generation']==string5)&(df['frontcam']==string6)&(df['primarycam']==string7)]\n",
    "        ab=Label(root, text=ac)\n",
    "        ab.grid(row=11, column=1, sticky='e',padx=10, pady=10)\n",
    "    elif(string3==''):\n",
    "        ac=df.loc[(df['company']==string1)&(df['RAMGB']==string2)&(df['Battery power']==string4)&(df['generation']==string5)&(df['frontcam']==string6)&(df['primarycam']==string7)]\n",
    "        ab=Label(root, text=ac)\n",
    "        ab.grid(row=11, column=1, sticky='e',padx=10, pady=10)\n",
    "    elif(string4==''):\n",
    "        ac=df.loc[(df['company']==string1)&(df['RAMGB']==string2)&(df['ROMGB']==string3)&(df['generation']==string5)&(df['frontcam']==string6)&(df['primarycam']==string7)]\n",
    "        ab=Label(root, text=ac)\n",
    "        ab.grid(row=11, column=1, sticky='e',padx=10, pady=20)\n",
    "    elif(string5==''):\n",
    "        ac=df.loc[(df['company']==string1)&(df['RAMGB']==string2)&(df['ROMGB']==string3)&(df['Battery power']==string4)&(df['frontcam']==string6)&(df['primarycam']==string7)]\n",
    "        ab=Label(root, text=ac)\n",
    "        ab.grid(row=11, column=1, sticky='e',padx=10, pady=20)\n",
    "    elif(string6==''):\n",
    "        ac=df.loc[(df['company']==string1)&(df['RAMGB']==string2)&(df['ROMGB']==string3)&(df['Battery power']==string4)&(df['generation']==string5)&(df['primarycam']==string7)]\n",
    "        ab=Label(root, text=ac)\n",
    "        ab.grid(row=11, column=1, sticky='e',padx=10, pady=20)\n",
    "    elif(string7==''):\n",
    "        ac=df.loc[(df['company']==string1)&(df['RAMGB']==string2)&(df['ROMGB']==string3)&(df['Battery power']==string4)&(df['generation']==string5)&(df['frontcam']==string6)]\n",
    "        ab=Label(root, text=ac)\n",
    "        ab.grid(row=11, column=1, sticky='e',padx=10, pady=20)\n",
    "\n",
    "    else:\n",
    "        ac=df.loc[(df['company']==string1)&(df['RAMGB']==string2)&(df['ROMGB']==string3)&(df['Battery power']==string4)&(df['generation']==string5)&(df['frontcam']==string6)&(df['primarycam']==string7)]\n",
    "        ab=Label(root, text=ac)\n",
    "        ab.grid(row=11, column=1, sticky='e',padx=10, pady=10)"
   ]
  },
  {
   "cell_type": "code",
   "execution_count": 5,
   "id": "953fe73d",
   "metadata": {},
   "outputs": [],
   "source": [
    "Title=Label(root,text=\"Mobile Advocate\",font=('Tahoma 40 bold'), bg=\"black\",fg=\"white\")\n",
    "Title.grid(row=1, column=1, pady=20, columnspan=2)\n",
    "root.title(\"a\")\n",
    "#company entry\n",
    "comp=Label(root,text=\"Enter the company name:\",font=('Forte 20 bold'), bg=\"lightgrey\",fg=\"black\")\n",
    "comp.grid(row=2,column=0 ,sticky='w')\n",
    "e=Entry(root)\n",
    "e.grid(row=2, column=1, sticky='e', padx=10, pady=10)\n",
    "en=Label(root, text=\"eg:realme, oppo, Mi, Apple, sony, nokia, samsung\")\n",
    "en.grid(row=2, column=2, padx=10, pady=10)\n",
    "e.focus_set()"
   ]
  },
  {
   "cell_type": "code",
   "execution_count": 6,
   "id": "68aa6ea6",
   "metadata": {},
   "outputs": [
    {
     "data": {
      "text/plain": [
       "<bound method Misc.focus_set of <tkinter.Entry object .!entry2>>"
      ]
     },
     "execution_count": 6,
     "metadata": {},
     "output_type": "execute_result"
    }
   ],
   "source": [
    "#RAM\n",
    "ram=Label(root,text=\"Enter the RAM in GB:\",font=('Forte 20 bold'), bg=\"lightgrey\",fg=\"black\")\n",
    "ram.grid(row=3,column=0 ,sticky='w')\n",
    "s=Entry(root)\n",
    "s.grid(row=3, column=1, sticky='e', padx=10, pady=10)\n",
    "sn=Label(root, text=\"eg:4,6,8 in GB\") \n",
    "sn.grid(row=3, column=2)\n",
    "s.focus_set"
   ]
  },
  {
   "cell_type": "code",
   "execution_count": 7,
   "id": "81ca4ad8",
   "metadata": {},
   "outputs": [
    {
     "data": {
      "text/plain": [
       "<bound method Misc.focus_set of <tkinter.Entry object .!entry3>>"
      ]
     },
     "execution_count": 7,
     "metadata": {},
     "output_type": "execute_result"
    }
   ],
   "source": [
    "#ROM\n",
    "rom=Label(root,text=\"Enter the ROM in GB:\",font=('Forte 20 bold'), bg=\"lightgrey\",fg=\"black\")\n",
    "rom.grid(row=4,column=0 ,sticky='w')\n",
    "t=Entry(root)\n",
    "t.grid(row=4, column=1, sticky='e',padx=10, pady=10)\n",
    "tn=Label(root, text=\"eg:32,64,128 in GB\")\n",
    "tn.grid(row=4, column=2)\n",
    "t.focus_set"
   ]
  },
  {
   "cell_type": "code",
   "execution_count": 8,
   "id": "894aa454",
   "metadata": {},
   "outputs": [
    {
     "data": {
      "text/plain": [
       "<bound method Misc.focus_set of <tkinter.Entry object .!entry4>>"
      ]
     },
     "execution_count": 8,
     "metadata": {},
     "output_type": "execute_result"
    }
   ],
   "source": [
    "#Battery power\n",
    "bat=Label(root,text=\"Enter the battery power in mah:\",font=('Forte 20 bold'), bg=\"lightgrey\",fg=\"black\")\n",
    "bat.grid(row=5,column=0 ,sticky='w')\n",
    "u=Entry(root)\n",
    "u.grid(row=5, column=1, sticky='e',padx=10, pady=10)\n",
    "un=Label(root, text=\"eg:2000, 2500, 3000, 35000, 4000, 45000, 5000 in Mah\")\n",
    "un.grid(row=5, column=2)\n",
    "u.focus_set"
   ]
  },
  {
   "cell_type": "code",
   "execution_count": 9,
   "id": "f11b4687",
   "metadata": {},
   "outputs": [
    {
     "data": {
      "text/plain": [
       "<bound method Misc.focus_set of <tkinter.Entry object .!entry5>>"
      ]
     },
     "execution_count": 9,
     "metadata": {},
     "output_type": "execute_result"
    }
   ],
   "source": [
    "#generation\n",
    "gen=Label(root,text=\"Enter the generation:\",font=('Forte 20 bold'), bg=\"lightgrey\",fg=\"black\")\n",
    "gen.grid(row=6,column=0 ,sticky='w')\n",
    "l=Entry(root)\n",
    "l.grid(row=6, column=1, sticky='e',padx=10, pady=10)\n",
    "ln=Label(root, text=\"eg:3G, 4G, 5G \")\n",
    "ln.grid(row=6, column=2)\n",
    "l.focus_set"
   ]
  },
  {
   "cell_type": "code",
   "execution_count": 10,
   "id": "9b235e7a",
   "metadata": {},
   "outputs": [
    {
     "data": {
      "text/plain": [
       "<bound method Misc.focus_set of <tkinter.Entry object .!entry6>>"
      ]
     },
     "execution_count": 10,
     "metadata": {},
     "output_type": "execute_result"
    }
   ],
   "source": [
    "#frontcam\n",
    "front=Label(root,text=\"Enter the frontcam pixel:\",font=('Forte 20 bold'), bg=\"lightgrey\",fg=\"black\")\n",
    "front.grid(row=7,column=0 ,sticky='w')\n",
    "h=Entry(root)\n",
    "h.grid(row=7, column=1, sticky='e',padx=10, pady=10)\n",
    "hn=Label(root, text=\"eg:15,20,25,35,45,50 in mega pixel\")\n",
    "hn.grid(row=7, column=2)\n",
    "h.focus_set"
   ]
  },
  {
   "cell_type": "code",
   "execution_count": 11,
   "id": "f053496d",
   "metadata": {},
   "outputs": [
    {
     "data": {
      "text/plain": [
       "<bound method Misc.focus_set of <tkinter.Entry object .!entry7>>"
      ]
     },
     "execution_count": 11,
     "metadata": {},
     "output_type": "execute_result"
    }
   ],
   "source": [
    "#primary\n",
    "primary=Label(root,text=\"Enter the primarycam pixel:\",font=('Forte 20 bold'), bg=\"lightgrey\",fg=\"black\")\n",
    "primary.grid(row=8,column=0 ,sticky='w')\n",
    "i=Entry(root)\n",
    "i.grid(row=8, column=1, sticky='e',padx=10, pady=10)\n",
    "ins=Label(root, text=\"eg:15,20,25,35,45,50 in mega pixel\")\n",
    "ins.grid(row=8, column=2)\n",
    "i.focus_set"
   ]
  },
  {
   "cell_type": "code",
   "execution_count": 12,
   "id": "b0b3e115",
   "metadata": {},
   "outputs": [],
   "source": [
    "#Note\n",
    "note=Label(root,text=\"NOTE: User must enter minimum 6 specifications to get desired output\")\n",
    "note.grid(row=9, column=1, padx=10, pady=10)\n",
    "#button\n",
    "Result_button=Button(root, text=\"Result\", font=('Arial 15 bold'), height=1, width=10, bg=\"lightgrey\", command=printtext)\n",
    "Result_button.grid(row=10,column=1 , sticky='e')\n",
    "\n",
    "root.mainloop()"
   ]
  },
  {
   "cell_type": "code",
   "execution_count": null,
   "id": "38c34bef",
   "metadata": {},
   "outputs": [],
   "source": []
  }
 ],
 "metadata": {
  "kernelspec": {
   "display_name": "Python 3",
   "language": "python",
   "name": "python3"
  },
  "language_info": {
   "codemirror_mode": {
    "name": "ipython",
    "version": 3
   },
   "file_extension": ".py",
   "mimetype": "text/x-python",
   "name": "python",
   "nbconvert_exporter": "python",
   "pygments_lexer": "ipython3",
   "version": "3.8.8"
  }
 },
 "nbformat": 4,
 "nbformat_minor": 5
}
